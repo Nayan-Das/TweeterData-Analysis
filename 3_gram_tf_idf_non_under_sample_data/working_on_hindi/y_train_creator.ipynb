{
 "cells": [
  {
   "cell_type": "code",
   "execution_count": 1,
   "metadata": {},
   "outputs": [],
   "source": [
    "with open('NepalQuake-training-availability-tweetids.txt', 'r') as f:\n",
    "    availability_id = list()\n",
    "    for i in iter(f):\n",
    "        availability_id.append(i.strip('\\n'))"
   ]
  },
  {
   "cell_type": "code",
   "execution_count": 2,
   "metadata": {},
   "outputs": [],
   "source": [
    "with open('NepalQuake-training-need-tweetids.txt', 'r') as f:\n",
    "    need_id = list()\n",
    "    for i in iter(f):\n",
    "        need_id.append(i.strip('\\n'))"
   ]
  },
  {
   "cell_type": "code",
   "execution_count": 3,
   "metadata": {},
   "outputs": [],
   "source": [
    "with open('train_data_id.txt') as f:\n",
    "    l = list()\n",
    "    for i in iter(f):\n",
    "        l.append(i.strip('\\n'))"
   ]
  },
  {
   "cell_type": "code",
   "execution_count": 4,
   "metadata": {},
   "outputs": [],
   "source": [
    "availability_id = set(availability_id)"
   ]
  },
  {
   "cell_type": "code",
   "execution_count": 5,
   "metadata": {},
   "outputs": [],
   "source": [
    "need_id = set(need_id)"
   ]
  },
  {
   "cell_type": "code",
   "execution_count": 6,
   "metadata": {},
   "outputs": [],
   "source": [
    "class_label = [0 for i in range(len(l))]"
   ]
  },
  {
   "cell_type": "code",
   "execution_count": 7,
   "metadata": {},
   "outputs": [],
   "source": [
    "common = availability_id.intersection(need_id)"
   ]
  },
  {
   "cell_type": "code",
   "execution_count": 8,
   "metadata": {},
   "outputs": [],
   "source": [
    "## class Label\n",
    "## need : 1\n",
    "## availability : 2\n",
    "## need + availability : 3\n",
    "## otherwise : 0"
   ]
  },
  {
   "cell_type": "code",
   "execution_count": 9,
   "metadata": {},
   "outputs": [],
   "source": [
    "for i in range(len(l)):\n",
    "    if l[i] in common:\n",
    "        class_label[i] = 3\n",
    "        continue\n",
    "    elif l[i] in need_id:\n",
    "        class_label[i] = 1\n",
    "        continue\n",
    "    elif l[i] in availability_id:\n",
    "        class_label[i] = 2"
   ]
  },
  {
   "cell_type": "code",
   "execution_count": 10,
   "metadata": {},
   "outputs": [],
   "source": [
    "with open('y_train_class_label.txt', 'w') as f:\n",
    "    for i in class_label:\n",
    "        f.writelines(str(i) + '\\n')"
   ]
  },
  {
   "cell_type": "code",
   "execution_count": 11,
   "metadata": {},
   "outputs": [],
   "source": [
    "with open('NepalQuake-test-availability-tweetids.txt', 'r') as f:\n",
    "    test_avail_id = list()\n",
    "    for i in iter(f):\n",
    "        #print(i)\n",
    "        test_avail_id.append(i.strip('\\n'))"
   ]
  },
  {
   "cell_type": "code",
   "execution_count": 12,
   "metadata": {},
   "outputs": [],
   "source": [
    "with open('NepalQuake-test-need-tweetids.txt', 'r') as f:\n",
    "    test_need_id = list()\n",
    "    for i in iter(f):\n",
    "        #print(i)\n",
    "        test_need_id.append(i.strip('\\n'))"
   ]
  },
  {
   "cell_type": "code",
   "execution_count": 13,
   "metadata": {},
   "outputs": [],
   "source": [
    "with open('test_data_id.txt') as f:\n",
    "    l = list()\n",
    "    for i in iter(f):\n",
    "        l.append(i.strip('\\n'))"
   ]
  },
  {
   "cell_type": "code",
   "execution_count": 14,
   "metadata": {},
   "outputs": [],
   "source": [
    "test_avail_id = set(test_avail_id)"
   ]
  },
  {
   "cell_type": "code",
   "execution_count": 15,
   "metadata": {},
   "outputs": [],
   "source": [
    "test_need_id = set(test_need_id)"
   ]
  },
  {
   "cell_type": "code",
   "execution_count": 16,
   "metadata": {},
   "outputs": [],
   "source": [
    "class_label = [0 for i in range(len(l))]"
   ]
  },
  {
   "cell_type": "code",
   "execution_count": 17,
   "metadata": {},
   "outputs": [],
   "source": [
    "common = test_avail_id.intersection(test_need_id)"
   ]
  },
  {
   "cell_type": "code",
   "execution_count": 18,
   "metadata": {},
   "outputs": [],
   "source": [
    "## class Label\n",
    "## need : 1\n",
    "## availability : 2\n",
    "## need + availability : 3\n",
    "## otherwise : 0"
   ]
  },
  {
   "cell_type": "code",
   "execution_count": 19,
   "metadata": {},
   "outputs": [],
   "source": [
    "for i in range(len(l)):\n",
    "    if l[i] in common:\n",
    "        class_label[i] = 3\n",
    "        continue\n",
    "    elif l[i] in test_need_id:\n",
    "        class_label[i] = 1\n",
    "        continue\n",
    "    elif l[i] in test_avail_id:\n",
    "        class_label[i] = 2"
   ]
  },
  {
   "cell_type": "code",
   "execution_count": 20,
   "metadata": {},
   "outputs": [],
   "source": [
    "with open('y_test_class_label.txt', 'w') as f:\n",
    "    for i in class_label:\n",
    "        f.writelines(str(i) + '\\n')"
   ]
  },
  {
   "cell_type": "code",
   "execution_count": null,
   "metadata": {},
   "outputs": [],
   "source": []
  },
  {
   "cell_type": "code",
   "execution_count": null,
   "metadata": {},
   "outputs": [],
   "source": []
  }
 ],
 "metadata": {
  "kernelspec": {
   "display_name": "Python 3",
   "language": "python",
   "name": "python3"
  },
  "language_info": {
   "codemirror_mode": {
    "name": "ipython",
    "version": 3
   },
   "file_extension": ".py",
   "mimetype": "text/x-python",
   "name": "python",
   "nbconvert_exporter": "python",
   "pygments_lexer": "ipython3",
   "version": "3.6.6"
  }
 },
 "nbformat": 4,
 "nbformat_minor": 2
}
