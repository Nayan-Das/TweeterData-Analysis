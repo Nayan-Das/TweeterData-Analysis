{
 "cells": [
  {
   "cell_type": "code",
   "execution_count": 1,
   "metadata": {},
   "outputs": [],
   "source": [
    "import random"
   ]
  },
  {
   "cell_type": "code",
   "execution_count": 2,
   "metadata": {},
   "outputs": [],
   "source": [
    "with open('NepalQuake-training-availability-tweetids.txt', 'r') as f:\n",
    "    availability_id = list()\n",
    "    for i in iter(f):\n",
    "        availability_id.append(i.strip('\\n'))\n",
    "        \n",
    "with open('NepalQuake-training-need-tweetids.txt', 'r') as f:\n",
    "    need_id = list()\n",
    "    for i in iter(f):\n",
    "        need_id.append(i.strip('\\n'))\n",
    "        \n",
    "with open('train_data_id.txt') as f:\n",
    "    l = list()\n",
    "    for i in iter(f):\n",
    "        l.append(i.strip('\\n'))\n",
    "        \n",
    "availability_id = set(availability_id)\n",
    "need_id = set(need_id)\n",
    "train_id = set(l)"
   ]
  },
  {
   "cell_type": "code",
   "execution_count": 3,
   "metadata": {},
   "outputs": [],
   "source": [
    "relevant = availability_id.union(need_id)"
   ]
  },
  {
   "cell_type": "code",
   "execution_count": 4,
   "metadata": {},
   "outputs": [],
   "source": [
    "irrelevant = train_id.difference(relevant)"
   ]
  },
  {
   "cell_type": "code",
   "execution_count": 5,
   "metadata": {},
   "outputs": [],
   "source": [
    "sample = random.sample(list(irrelevant), len(relevant)//2)"
   ]
  },
  {
   "cell_type": "code",
   "execution_count": 6,
   "metadata": {},
   "outputs": [],
   "source": [
    "sample.extend(list(relevant))"
   ]
  },
  {
   "cell_type": "code",
   "execution_count": 7,
   "metadata": {},
   "outputs": [
    {
     "data": {
      "text/plain": [
       "1386"
      ]
     },
     "execution_count": 7,
     "metadata": {},
     "output_type": "execute_result"
    }
   ],
   "source": [
    "len(sample)"
   ]
  },
  {
   "cell_type": "code",
   "execution_count": 8,
   "metadata": {},
   "outputs": [],
   "source": [
    "with open('undersampled_train_id.txt', 'w') as f:\n",
    "    for i in sample:\n",
    "        f.writelines(str(i) + '\\n')"
   ]
  },
  {
   "cell_type": "code",
   "execution_count": null,
   "metadata": {},
   "outputs": [],
   "source": []
  }
 ],
 "metadata": {
  "kernelspec": {
   "display_name": "Python 3",
   "language": "python",
   "name": "python3"
  },
  "language_info": {
   "codemirror_mode": {
    "name": "ipython",
    "version": 3
   },
   "file_extension": ".py",
   "mimetype": "text/x-python",
   "name": "python",
   "nbconvert_exporter": "python",
   "pygments_lexer": "ipython3",
   "version": "3.6.6"
  }
 },
 "nbformat": 4,
 "nbformat_minor": 2
}
