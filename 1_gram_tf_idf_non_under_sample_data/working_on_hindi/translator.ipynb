{
 "cells": [
  {
   "cell_type": "code",
   "execution_count": null,
   "metadata": {},
   "outputs": [],
   "source": [
    "import json\n",
    "\n",
    "with open('training.json', 'r', encoding='utf-8') as f:\n",
    "    data = list()\n",
    "    for i in f.read().strip().split('\\n'):\n",
    "        data.append(json.loads(i))\n",
    "    print(len(data))\n",
    "    \n",
    "train_data = list()\n",
    "for i in data:\n",
    "    train_data.append([i['id_str'], i['text']])\n",
    "    \n",
    "#import googletrans\n",
    "import re\n",
    "#importlib.reload(googletrans)\n",
    "#from googletrans import Translator  # Import Translator module from googletrans package\n",
    "\n",
    "#translator = googletrans.Translator(service_urls=['translate.google.com', 'translate.google.co.kr']) \n",
    "# Create object of Translator.\n",
    "\n",
    "emoji_pattern = re.compile(\"[\"\n",
    "        u\"\\U0001F600-\\U0001F64F\"  # emoticons\n",
    "        u\"\\U0001F300-\\U0001F5FF\"  # symbols & pictographs\n",
    "        u\"\\U0001F680-\\U0001F6FF\"  # transport & map symbols\n",
    "        u\"\\U0001F1E0-\\U0001F1FF\"  # flags (iOS)\n",
    "        u\"\\U000FE000-\\U000FE4FF\"\n",
    "        u\"\\U000FE280-\\U000FE37F\"\n",
    "        u\"\\U000FE500-\\U000FE5FF\"\n",
    "        u\"\\U000FEB0D-\\U000FEC3F\"  #u\"\\U000FEB17-\\U000FEC3F\" #u\"\\U000FEB40-\\U000FEC3F\"                  \n",
    "                           \"]+\", flags=re.UNICODE)\n",
    "                           \n",
    "j = 1\n",
    "l = list()\n",
    "#k = 1\n",
    "\n",
    "for i in train_data:\n",
    "    '''if j <= 16755: \n",
    "        j += 1\n",
    "        continue'''\n",
    "    try:\n",
    "        #if k % 200 == 0:\n",
    "        #    translator = googletrans.Translator(service_urls=['translate.google.com', 'translate.google.co.kr'])\n",
    "        #print(i)\n",
    "        #x = translator.translate(emoji_pattern.sub(r'', i[1]))\n",
    "        x = emoji_pattern.sub(r'', i[1])\n",
    "        print(j, \"  ->  \", x)\n",
    "        l.append([i[0], x])\n",
    "        j += 1\n",
    "        #k += 1\n",
    "    except Exception as e:\n",
    "        print(j, \"\\n\\n\", i)\n",
    "        print(\"Error code : \", e)\n",
    "        break"
   ]
  },
  {
   "cell_type": "code",
   "execution_count": null,
   "metadata": {},
   "outputs": [],
   "source": [
    "len(l)"
   ]
  },
  {
   "cell_type": "code",
   "execution_count": null,
   "metadata": {},
   "outputs": [],
   "source": [
    "import copy\n",
    "z = copy.deepcopy(l)"
   ]
  },
  {
   "cell_type": "code",
   "execution_count": null,
   "metadata": {},
   "outputs": [],
   "source": [
    "for i in range(len(l)):\n",
    "    x = z[i][1].split('\\n')\n",
    "    z[i][1] = ' '.join(x)"
   ]
  },
  {
   "cell_type": "code",
   "execution_count": null,
   "metadata": {},
   "outputs": [],
   "source": [
    "for i in range(len(l)):\n",
    "    x = z[i][1].split('\\r')\n",
    "    z[i][1] = ' '.join(x)"
   ]
  },
  {
   "cell_type": "code",
   "execution_count": null,
   "metadata": {},
   "outputs": [],
   "source": [
    "with open('training_natural_' + str(len(l)) + '.txt', 'w') as f:\n",
    "    for i in z:\n",
    "        f.writelines(str(i[0]) + '  ->  ' + str(i[1]) + '\\n')"
   ]
  },
  {
   "cell_type": "code",
   "execution_count": null,
   "metadata": {},
   "outputs": [],
   "source": [
    "import pandas as pd"
   ]
  },
  {
   "cell_type": "code",
   "execution_count": null,
   "metadata": {},
   "outputs": [],
   "source": [
    "df = pd.DataFrame(z, columns=['id', 'text'])"
   ]
  },
  {
   "cell_type": "code",
   "execution_count": null,
   "metadata": {},
   "outputs": [],
   "source": [
    "df.to_csv('training_natural.csv', index=False)"
   ]
  },
  {
   "cell_type": "code",
   "execution_count": null,
   "metadata": {},
   "outputs": [],
   "source": []
  }
 ],
 "metadata": {
  "kernelspec": {
   "display_name": "Python 3",
   "language": "python",
   "name": "python3"
  },
  "language_info": {
   "codemirror_mode": {
    "name": "ipython",
    "version": 3
   },
   "file_extension": ".py",
   "mimetype": "text/x-python",
   "name": "python",
   "nbconvert_exporter": "python",
   "pygments_lexer": "ipython3",
   "version": "3.6.6"
  }
 },
 "nbformat": 4,
 "nbformat_minor": 2
}
