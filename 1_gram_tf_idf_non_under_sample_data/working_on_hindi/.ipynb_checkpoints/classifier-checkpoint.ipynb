{
 "cells": [
  {
   "cell_type": "code",
   "execution_count": 1,
   "metadata": {},
   "outputs": [],
   "source": [
    "import scipy.sparse\n",
    "from sklearn import svm\n",
    "from sklearn.model_selection import GridSearchCV\n",
    "from sklearn.metrics import accuracy_score, precision_score, recall_score, f1_score\n",
    "from sklearn.linear_model import LogisticRegression\n",
    "from sklearn.tree import DecisionTreeClassifier\n",
    "from sklearn.ensemble import RandomForestClassifier\n",
    "from sklearn.neural_network import MLPClassifier\n",
    "from sklearn.metrics import confusion_matrix\n",
    "from matplotlib import pyplot as plt\n",
    "import numpy as np\n",
    "import itertools"
   ]
  },
  {
   "cell_type": "code",
   "execution_count": 2,
   "metadata": {},
   "outputs": [],
   "source": [
    "X_train = scipy.sparse.load_npz('X_train_features_sparse_matrix.npz')"
   ]
  },
  {
   "cell_type": "code",
   "execution_count": 3,
   "metadata": {},
   "outputs": [],
   "source": [
    "X_test = scipy.sparse.load_npz('X_test_features_sparse_matrix.npz')"
   ]
  },
  {
   "cell_type": "code",
   "execution_count": 4,
   "metadata": {},
   "outputs": [],
   "source": [
    "y_train = []\n",
    "with open('y_train_class_label.txt', 'r') as f:\n",
    "    for i in iter(f):\n",
    "        y_train.append(int(i.strip('\\n')))"
   ]
  },
  {
   "cell_type": "code",
   "execution_count": 5,
   "metadata": {},
   "outputs": [],
   "source": [
    "y_test = []\n",
    "with open('y_test_class_label.txt', 'r') as f:\n",
    "    for i in iter(f):\n",
    "        y_test.append(int(i.strip('\\n')))"
   ]
  },
  {
   "cell_type": "code",
   "execution_count": 6,
   "metadata": {},
   "outputs": [],
   "source": [
    "def plot_confusion_matrix(cm, classes,\n",
    "                          normalize=False,\n",
    "                          title='Confusion matrix',\n",
    "                          cmap=plt.cm.Blues):\n",
    "    \"\"\"\n",
    "    This function prints and plots the confusion matrix.\n",
    "    Normalization can be applied by setting `normalize=True`.\n",
    "    \"\"\"\n",
    "    '''if normalize:\n",
    "        cm = cm.astype('float') / cm.sum(axis=1)[:, np.newaxis]\n",
    "        print(\"Normalized confusion matrix\")\n",
    "    else:\n",
    "        print('Confusion matrix, without normalization')\n",
    "\n",
    "    print(cm)'''\n",
    "\n",
    "    plt.imshow(cm, interpolation='nearest', cmap=cmap)\n",
    "    plt.title(title)\n",
    "    plt.colorbar()\n",
    "    tick_marks = np.arange(len(classes))\n",
    "    plt.xticks(tick_marks, classes, rotation=45)\n",
    "    plt.yticks(tick_marks, classes)\n",
    "\n",
    "    fmt = '.2f' if normalize else 'd'\n",
    "    thresh = cm.max() / 2.\n",
    "    for i, j in itertools.product(range(cm.shape[0]), range(cm.shape[1])):\n",
    "        plt.text(j, i, format(cm[i, j], fmt),\n",
    "                 horizontalalignment=\"center\",\n",
    "                 color=\"white\" if cm[i, j] > thresh else \"black\")\n",
    "\n",
    "    plt.ylabel('True label')\n",
    "    plt.xlabel('Predicted label')\n",
    "    plt.tight_layout()"
   ]
  },
  {
   "cell_type": "markdown",
   "metadata": {},
   "source": [
    "<pre>\n",
    "\n",
    "</pre>\n",
    "<h1 align='center' style='color:red'>SVM (Linear, RBF)</h1>\n",
    "<pre>\n",
    "\n",
    "</pre>"
   ]
  },
  {
   "cell_type": "code",
   "execution_count": 17,
   "metadata": {},
   "outputs": [
    {
     "name": "stderr",
     "output_type": "stream",
     "text": [
      "/home/soumya/.local/lib/python3.6/site-packages/sklearn/model_selection/_split.py:626: Warning: The least populated class in y has only 6 members, which is too few. The minimum number of members in any class cannot be less than n_splits=10.\n",
      "  % (min_groups, self.n_splits)), Warning)\n",
      "/home/soumya/.local/lib/python3.6/site-packages/sklearn/externals/joblib/externals/loky/process_executor.py:700: UserWarning: A worker stopped while some jobs were given to the executor. This can be caused by a too short worker timeout or by a memory leak.\n",
      "  \"timeout or by a memory leak.\", UserWarning\n"
     ]
    },
    {
     "name": "stdout",
     "output_type": "stream",
     "text": [
      "\n",
      " The best grid is as follows: \n",
      "\n",
      "SVC(C=12, cache_size=200, class_weight='balanced', coef0=0.0,\n",
      "  decision_function_shape='ovr', degree=3, gamma='auto_deprecated',\n",
      "  kernel='linear', max_iter=-1, probability=False, random_state=None,\n",
      "  shrinking=True, tol=0.001, verbose=False)\n",
      "Classification of the train samples\n",
      "Evaluation using Precision, Recall and F-measure\n",
      "\n",
      " Accuracy:0.9949208599102292\n",
      "\n",
      " Precision:0.9949208599102292\n",
      "\n",
      " Recall:0.9949208599102292\n",
      "\n",
      " F-measure:0.9949208599102292\n",
      "Classification of the test samples\n",
      "Evaluation using Precision, Recall and F-measure\n",
      "\n",
      " Accuracy:0.9729584614633671\n",
      "\n",
      " Precision:0.9729584614633671\n",
      "\n",
      " Recall:0.9729584614633671\n",
      "\n",
      " F-measure:0.9729584614633671\n"
     ]
    },
    {
     "data": {
      "image/png": "[encoded data removed]",
      "text/plain": [
       "<Figure size 432x288 with 2 Axes>"
      ]
     },
     "metadata": {
      "needs_background": "light"
     },
     "output_type": "display_data"
    }
   ],
   "source": [
    "if __name__ == '__main__':\n",
    "    svr = svm.SVC(class_weight='balanced')\n",
    "    param_grid =[{'kernel':['linear'],'C':[int(i) for i in range(1,100)]},{'kernel':['rbf'],'C':[1,10,100]},]  # Sets of parameters\n",
    "    grid = GridSearchCV(svr,param_grid,n_jobs=7, cv=10)          \n",
    "    grid.fit(X_train,y_train)    \n",
    "    clf= grid.best_estimator_                   # Best grid\n",
    "    print ('\\n The best grid is as follows: \\n')\n",
    "    print (grid.best_estimator_ )\n",
    "\n",
    "    print ('Classification of the train samples')\n",
    "    predicted_class_label = clf.predict(X_train)     \n",
    "    predicted_class_label = list(predicted_class_label)\n",
    "\n",
    "    print ('Evaluation using Precision, Recall and F-measure')\n",
    "    ac=accuracy_score(y_train, predicted_class_label)\n",
    "    print ('\\n Accuracy:'+str(ac))\n",
    "    pr=precision_score(y_train, predicted_class_label, average='micro')\n",
    "    print ('\\n Precision:'+str(pr))\n",
    "    re=recall_score(y_train, predicted_class_label, average='micro')\n",
    "    print ('\\n Recall:'+str(re))\n",
    "    fm=f1_score(y_train, predicted_class_label, average='micro') \n",
    "    print ('\\n F-measure:'+str(fm))\n",
    "\n",
    "    print ('Classification of the test samples')\n",
    "    predicted_class_label = clf.predict(X_test)     \n",
    "    predicted_class_label = list(predicted_class_label)\n",
    "\n",
    "    print ('Evaluation using Precision, Recall and F-measure')\n",
    "    ac=accuracy_score(y_test, predicted_class_label)\n",
    "    print ('\\n Accuracy:'+str(ac))\n",
    "    pr=precision_score(y_test, predicted_class_label, average='micro')\n",
    "    print ('\\n Precision:'+str(pr))\n",
    "    re=recall_score(y_test, predicted_class_label, average='micro')\n",
    "    print ('\\n Recall:'+str(re))\n",
    "    fm=f1_score(y_test, predicted_class_label, average='micro') \n",
    "    print ('\\n F-measure:'+str(fm))\n",
    "    cnf_matrix = confusion_matrix(y_test,predicted_class_label)\n",
    "    #print(cnf_matrix)\n",
    "    plt.figure()\n",
    "    plot_confusion_matrix(cnf_matrix, classes=[0, 1, 2, 3])"
   ]
  },
  {
   "cell_type": "markdown",
   "metadata": {},
   "source": [
    "<pre>\n",
    "\n",
    "</pre>\n",
    "<h1 align='center' style='color:red'>SVM (Linear Unbalanced)</h1>\n",
    "<pre>\n",
    "\n",
    "</pre>"
   ]
  },
  {
   "cell_type": "code",
   "execution_count": 19,
   "metadata": {},
   "outputs": [
    {
     "name": "stderr",
     "output_type": "stream",
     "text": [
      "/home/soumya/.local/lib/python3.6/site-packages/sklearn/model_selection/_split.py:626: Warning: The least populated class in y has only 6 members, which is too few. The minimum number of members in any class cannot be less than n_splits=10.\n",
      "  % (min_groups, self.n_splits)), Warning)\n"
     ]
    },
    {
     "name": "stdout",
     "output_type": "stream",
     "text": [
      "\n",
      " The best grid is as follows: \n",
      "\n",
      "SVC(C=1, cache_size=200, class_weight=None, coef0=0.0,\n",
      "  decision_function_shape='ovr', degree=3, gamma='auto_deprecated',\n",
      "  kernel='linear', max_iter=-1, probability=False, random_state=None,\n",
      "  shrinking=True, tol=0.001, verbose=False)\n",
      "Classification of the train samples\n",
      "Evaluation using Precision, Recall and F-measure\n",
      "\n",
      " Accuracy:0.9848806992676589\n",
      "\n",
      " Precision:0.9848806992676589\n",
      "\n",
      " Recall:0.9848806992676589\n",
      "\n",
      " F-measure:0.9848806992676589\n",
      "Classification of the test samples\n",
      "Evaluation using Precision, Recall and F-measure\n",
      "\n",
      " Accuracy:0.9749597305608435\n",
      "\n",
      " Precision:0.9749597305608435\n",
      "\n",
      " Recall:0.9749597305608435\n",
      "\n",
      " F-measure:0.9749597305608435\n"
     ]
    },
    {
     "data": {
      "image/png": "[encoded data removed]",
      "text/plain": [
       "<Figure size 432x288 with 2 Axes>"
      ]
     },
     "metadata": {
      "needs_background": "light"
     },
     "output_type": "display_data"
    }
   ],
   "source": [
    "if __name__ == '__main__':\n",
    "    svr = svm.SVC()\n",
    "    param_grid =[{'kernel':['linear'],'C':[1,10,100]},]  # Sets of parameters\n",
    "    grid = GridSearchCV(svr,param_grid,n_jobs=7, cv=10)          \n",
    "    grid.fit(X_train,y_train)    \n",
    "    clf= grid.best_estimator_                   # Best grid\n",
    "    print ('\\n The best grid is as follows: \\n')\n",
    "    print (grid.best_estimator_ )\n",
    "\n",
    "    print ('Classification of the train samples')\n",
    "    predicted_class_label = clf.predict(X_train)     \n",
    "    predicted_class_label = list(predicted_class_label)\n",
    "\n",
    "    print ('Evaluation using Precision, Recall and F-measure')\n",
    "    ac=accuracy_score(y_train, predicted_class_label)\n",
    "    print ('\\n Accuracy:'+str(ac))\n",
    "    pr=precision_score(y_train, predicted_class_label, average='micro')\n",
    "    print ('\\n Precision:'+str(pr))\n",
    "    re=recall_score(y_train, predicted_class_label, average='micro')\n",
    "    print ('\\n Recall:'+str(re))\n",
    "    fm=f1_score(y_train, predicted_class_label, average='micro') \n",
    "    print ('\\n F-measure:'+str(fm))\n",
    "\n",
    "    print ('Classification of the test samples')\n",
    "    predicted_class_label = clf.predict(X_test)     \n",
    "    predicted_class_label = list(predicted_class_label)\n",
    "\n",
    "    print ('Evaluation using Precision, Recall and F-measure')\n",
    "    ac=accuracy_score(y_test, predicted_class_label)\n",
    "    print ('\\n Accuracy:'+str(ac))\n",
    "    pr=precision_score(y_test, predicted_class_label, average='micro')\n",
    "    print ('\\n Precision:'+str(pr))\n",
    "    re=recall_score(y_test, predicted_class_label, average='micro')\n",
    "    print ('\\n Recall:'+str(re))\n",
    "    fm=f1_score(y_test, predicted_class_label, average='micro') \n",
    "    print ('\\n F-measure:'+str(fm))\n",
    "    cnf_matrix = confusion_matrix(y_test,predicted_class_label)\n",
    "    #print(cnf_matrix)\n",
    "    plt.figure()\n",
    "    plot_confusion_matrix(cnf_matrix, classes=[0, 1, 2, 3])"
   ]
  },
  {
   "cell_type": "markdown",
   "metadata": {},
   "source": [
    "<pre>\n",
    "\n",
    "</pre>\n",
    "<h1 align='center' style='color:red'>SVM (Linear Balanced)</h1>\n",
    "<pre>\n",
    "\n",
    "</pre>"
   ]
  },
  {
   "cell_type": "code",
   "execution_count": 21,
   "metadata": {},
   "outputs": [
    {
     "name": "stderr",
     "output_type": "stream",
     "text": [
      "/home/soumya/.local/lib/python3.6/site-packages/sklearn/model_selection/_split.py:626: Warning: The least populated class in y has only 6 members, which is too few. The minimum number of members in any class cannot be less than n_splits=10.\n",
      "  % (min_groups, self.n_splits)), Warning)\n"
     ]
    },
    {
     "name": "stdout",
     "output_type": "stream",
     "text": [
      "\n",
      " The best grid is as follows: \n",
      "\n",
      "SVC(C=10, cache_size=200, class_weight='balanced', coef0=0.0,\n",
      "  decision_function_shape='ovr', degree=3, gamma='auto_deprecated',\n",
      "  kernel='linear', max_iter=-1, probability=False, random_state=None,\n",
      "  shrinking=True, tol=0.001, verbose=False)\n",
      "Classification of the train samples\n",
      "Evaluation using Precision, Recall and F-measure\n",
      "\n",
      " Accuracy:0.9942121426884006\n",
      "\n",
      " Precision:0.9942121426884006\n",
      "\n",
      " Recall:0.9942121426884006\n",
      "\n",
      " F-measure:0.9942121426884006\n",
      "Classification of the test samples\n",
      "Evaluation using Precision, Recall and F-measure\n",
      "\n",
      " Accuracy:0.9728608385805633\n",
      "\n",
      " Precision:0.9728608385805633\n",
      "\n",
      " Recall:0.9728608385805633\n",
      "\n",
      " F-measure:0.9728608385805633\n"
     ]
    },
    {
     "data": {
      "image/png": "[encoded data removed]",
      "text/plain": [
       "<Figure size 432x288 with 2 Axes>"
      ]
     },
     "metadata": {
      "needs_background": "light"
     },
     "output_type": "display_data"
    }
   ],
   "source": [
    "if __name__ == '__main__':\n",
    "    svr = svm.SVC(class_weight='balanced')\n",
    "    param_grid =[{'kernel':['linear'],'C':[1,10,100]},]  # Sets of parameters\n",
    "    grid = GridSearchCV(svr,param_grid,n_jobs=7, cv=10)          \n",
    "    grid.fit(X_train,y_train)    \n",
    "    clf= grid.best_estimator_                   # Best grid\n",
    "    print ('\\n The best grid is as follows: \\n')\n",
    "    print (grid.best_estimator_ )\n",
    "\n",
    "    print ('Classification of the train samples')\n",
    "    predicted_class_label = clf.predict(X_train)     \n",
    "    predicted_class_label = list(predicted_class_label)\n",
    "\n",
    "    print ('Evaluation using Precision, Recall and F-measure')\n",
    "    ac=accuracy_score(y_train, predicted_class_label)\n",
    "    print ('\\n Accuracy:'+str(ac))\n",
    "    pr=precision_score(y_train, predicted_class_label, average='micro')\n",
    "    print ('\\n Precision:'+str(pr))\n",
    "    re=recall_score(y_train, predicted_class_label, average='micro')\n",
    "    print ('\\n Recall:'+str(re))\n",
    "    fm=f1_score(y_train, predicted_class_label, average='micro') \n",
    "    print ('\\n F-measure:'+str(fm))\n",
    "\n",
    "    print ('Classification of the test samples')\n",
    "    predicted_class_label = clf.predict(X_test)     \n",
    "    predicted_class_label = list(predicted_class_label)\n",
    "\n",
    "    print ('Evaluation using Precision, Recall and F-measure')\n",
    "    ac=accuracy_score(y_test, predicted_class_label)\n",
    "    print ('\\n Accuracy:'+str(ac))\n",
    "    pr=precision_score(y_test, predicted_class_label, average='micro')\n",
    "    print ('\\n Precision:'+str(pr))\n",
    "    re=recall_score(y_test, predicted_class_label, average='micro')\n",
    "    print ('\\n Recall:'+str(re))\n",
    "    fm=f1_score(y_test, predicted_class_label, average='micro') \n",
    "    print ('\\n F-measure:'+str(fm))\n",
    "    cnf_matrix = confusion_matrix(y_test,predicted_class_label)\n",
    "    #print(cnf_matrix)\n",
    "    plt.figure()\n",
    "    plot_confusion_matrix(cnf_matrix, classes=[0, 1, 2, 3])"
   ]
  },
  {
   "cell_type": "markdown",
   "metadata": {},
   "source": [
    "<pre>\n",
    "\n",
    "</pre>\n",
    "<h1 align='center' style='color:red'>SoftMax</h1>\n",
    "<pre>\n",
    "\n",
    "</pre>"
   ]
  },
  {
   "cell_type": "code",
   "execution_count": 23,
   "metadata": {},
   "outputs": [
    {
     "name": "stderr",
     "output_type": "stream",
     "text": [
      "/home/soumya/.local/lib/python3.6/site-packages/sklearn/model_selection/_split.py:626: Warning: The least populated class in y has only 6 members, which is too few. The minimum number of members in any class cannot be less than n_splits=10.\n",
      "  % (min_groups, self.n_splits)), Warning)\n",
      "/home/soumya/.local/lib/python3.6/site-packages/sklearn/linear_model/logistic.py:432: FutureWarning: Default solver will be changed to 'lbfgs' in 0.22. Specify a solver to silence this warning.\n",
      "  FutureWarning)\n",
      "/home/soumya/.local/lib/python3.6/site-packages/sklearn/linear_model/logistic.py:459: FutureWarning: Default multi_class will be changed to 'auto' in 0.22. Specify the multi_class option to silence this warning.\n",
      "  \"this warning.\", FutureWarning)\n"
     ]
    },
    {
     "name": "stdout",
     "output_type": "stream",
     "text": [
      "\n",
      " The best grid is as follows: \n",
      "\n",
      "LogisticRegression(C=10, class_weight=None, dual=False, fit_intercept=True,\n",
      "          intercept_scaling=1, max_iter=100, multi_class='warn',\n",
      "          n_jobs=None, penalty='l2', random_state=None, solver='warn',\n",
      "          tol=0.0001, verbose=0, warm_start=False)\n",
      "Classification of the train samples\n",
      "Evaluation using Precision, Recall and F-measure\n",
      "\n",
      " Accuracy:0.9907276163477439\n",
      "\n",
      " Precision:0.9907276163477439\n",
      "\n",
      " Recall:0.9907276163477439\n",
      "\n",
      " F-measure:0.9907276163477439\n",
      "Classification of the test samples\n",
      "Evaluation using Precision, Recall and F-measure\n",
      "\n",
      " Accuracy:0.9749109191194416\n",
      "\n",
      " Precision:0.9749109191194416\n",
      "\n",
      " Recall:0.9749109191194416\n",
      "\n",
      " F-measure:0.9749109191194415\n"
     ]
    },
    {
     "data": {
      "image/png": "[encoded data removed]",
      "text/plain": [
       "<Figure size 432x288 with 2 Axes>"
      ]
     },
     "metadata": {
      "needs_background": "light"
     },
     "output_type": "display_data"
    }
   ],
   "source": [
    "if __name__ == '__main__':\n",
    "    logReg = LogisticRegression()\n",
    "    param_grid =[{'C':[10e-5,10e-4,1,10,20,50,100]},]  # Sets of parameters\n",
    "    grid = GridSearchCV(logReg,param_grid,n_jobs=7, cv=10)          \n",
    "    grid.fit(X_train,y_train)    \n",
    "    clf= grid.best_estimator_                   # Best grid\n",
    "    print ('\\n The best grid is as follows: \\n')\n",
    "    print (grid.best_estimator_ )\n",
    "\n",
    "    print ('Classification of the train samples')\n",
    "    predicted_class_label = clf.predict(X_train)     \n",
    "    predicted_class_label = list(predicted_class_label)\n",
    "\n",
    "    print ('Evaluation using Precision, Recall and F-measure')\n",
    "    ac=accuracy_score(y_train, predicted_class_label)\n",
    "    print ('\\n Accuracy:'+str(ac))\n",
    "    pr=precision_score(y_train, predicted_class_label, average='micro')\n",
    "    print ('\\n Precision:'+str(pr))\n",
    "    re=recall_score(y_train, predicted_class_label, average='micro')\n",
    "    print ('\\n Recall:'+str(re))\n",
    "    fm=f1_score(y_train, predicted_class_label, average='micro') \n",
    "    print ('\\n F-measure:'+str(fm))\n",
    "\n",
    "    print ('Classification of the test samples')\n",
    "    predicted_class_label = clf.predict(X_test)     \n",
    "    predicted_class_label = list(predicted_class_label)\n",
    "\n",
    "    print ('Evaluation using Precision, Recall and F-measure')\n",
    "    ac=accuracy_score(y_test, predicted_class_label)\n",
    "    print ('\\n Accuracy:'+str(ac))\n",
    "    pr=precision_score(y_test, predicted_class_label, average='micro')\n",
    "    print ('\\n Precision:'+str(pr))\n",
    "    re=recall_score(y_test, predicted_class_label, average='micro')\n",
    "    print ('\\n Recall:'+str(re))\n",
    "    fm=f1_score(y_test, predicted_class_label, average='micro') \n",
    "    print ('\\n F-measure:'+str(fm))\n",
    "    cnf_matrix = confusion_matrix(y_test,predicted_class_label)\n",
    "    #print(cnf_matrix)\n",
    "    plt.figure()\n",
    "    plot_confusion_matrix(cnf_matrix, classes=[0, 1, 2, 3])"
   ]
  },
  {
   "cell_type": "markdown",
   "metadata": {},
   "source": [
    "<pre>\n",
    "\n",
    "</pre>\n",
    "<h1 align='center' style='color:red'>Decision Tree</h1>\n",
    "<pre>\n",
    "\n",
    "</pre> "
   ]
  },
  {
   "cell_type": "code",
   "execution_count": 25,
   "metadata": {},
   "outputs": [
    {
     "name": "stderr",
     "output_type": "stream",
     "text": [
      "/home/soumya/.local/lib/python3.6/site-packages/sklearn/model_selection/_split.py:626: Warning: The least populated class in y has only 6 members, which is too few. The minimum number of members in any class cannot be less than n_splits=10.\n",
      "  % (min_groups, self.n_splits)), Warning)\n"
     ]
    },
    {
     "name": "stdout",
     "output_type": "stream",
     "text": [
      "\n",
      " The best grid is as follows: \n",
      "\n",
      "DecisionTreeClassifier(class_weight=None, criterion='gini', max_depth=None,\n",
      "            max_features=None, max_leaf_nodes=None,\n",
      "            min_impurity_decrease=0.0, min_impurity_split=None,\n",
      "            min_samples_leaf=1, min_samples_split=2,\n",
      "            min_weight_fraction_leaf=0.0, presort=False, random_state=0,\n",
      "            splitter='best')\n",
      "Classification of the train samples\n",
      "Evaluation using Precision, Recall and F-measure\n",
      "\n",
      " Accuracy:0.9994684620836286\n",
      "\n",
      " Precision:0.9994684620836286\n",
      "\n",
      " Recall:0.9994684620836286\n",
      "\n",
      " F-measure:0.9994684620836286\n",
      "Classification of the test samples\n",
      "Evaluation using Precision, Recall and F-measure\n",
      "\n",
      " Accuracy:0.967564797188461\n",
      "\n",
      " Precision:0.967564797188461\n",
      "\n",
      " Recall:0.967564797188461\n",
      "\n",
      " F-measure:0.967564797188461\n"
     ]
    },
    {
     "data": {
      "image/png": "[encoded data removed]",
      "text/plain": [
       "<Figure size 432x288 with 2 Axes>"
      ]
     },
     "metadata": {
      "needs_background": "light"
     },
     "output_type": "display_data"
    }
   ],
   "source": [
    "if __name__ == '__main__':\n",
    "    clf = DecisionTreeClassifier(random_state=0)\n",
    "    param_grid =[{'max_depth':[None]},]  # Sets of parameters\n",
    "    grid = GridSearchCV(clf,param_grid,n_jobs=7, cv=10)          \n",
    "    grid.fit(X_train,y_train)    \n",
    "    clf= grid.best_estimator_                   # Best grid\n",
    "    print ('\\n The best grid is as follows: \\n')\n",
    "    print (grid.best_estimator_ )\n",
    "\n",
    "    print ('Classification of the train samples')\n",
    "    predicted_class_label = clf.predict(X_train)     \n",
    "    predicted_class_label = list(predicted_class_label)\n",
    "\n",
    "    print ('Evaluation using Precision, Recall and F-measure')\n",
    "    ac=accuracy_score(y_train, predicted_class_label)\n",
    "    print ('\\n Accuracy:'+str(ac))\n",
    "    pr=precision_score(y_train, predicted_class_label, average='micro')\n",
    "    print ('\\n Precision:'+str(pr))\n",
    "    re=recall_score(y_train, predicted_class_label, average='micro')\n",
    "    print ('\\n Recall:'+str(re))\n",
    "    fm=f1_score(y_train, predicted_class_label, average='micro') \n",
    "    print ('\\n F-measure:'+str(fm))\n",
    "\n",
    "    print ('Classification of the test samples')\n",
    "    predicted_class_label = clf.predict(X_test)     \n",
    "    predicted_class_label = list(predicted_class_label)\n",
    "\n",
    "    print ('Evaluation using Precision, Recall and F-measure')\n",
    "    ac=accuracy_score(y_test, predicted_class_label)\n",
    "    print ('\\n Accuracy:'+str(ac))\n",
    "    pr=precision_score(y_test, predicted_class_label, average='micro')\n",
    "    print ('\\n Precision:'+str(pr))\n",
    "    re=recall_score(y_test, predicted_class_label, average='micro')\n",
    "    print ('\\n Recall:'+str(re))\n",
    "    fm=f1_score(y_test, predicted_class_label, average='micro') \n",
    "    print ('\\n F-measure:'+str(fm))\n",
    "    cnf_matrix = confusion_matrix(y_test,predicted_class_label)\n",
    "    #print(cnf_matrix)\n",
    "    plt.figure()\n",
    "    plot_confusion_matrix(cnf_matrix, classes=[0, 1, 2, 3])#[class_names],\n",
    "                      #title='Confusion matrix, without normalization')"
   ]
  },
  {
   "cell_type": "markdown",
   "metadata": {},
   "source": [
    "<pre>\n",
    "\n",
    "</pre>\n",
    "<h1 align='center' style='color:red'>Random Forest</h1>\n",
    "<pre>\n",
    "\n",
    "</pre> "
   ]
  },
  {
   "cell_type": "code",
   "execution_count": 27,
   "metadata": {},
   "outputs": [
    {
     "name": "stderr",
     "output_type": "stream",
     "text": [
      "/home/soumya/.local/lib/python3.6/site-packages/sklearn/model_selection/_split.py:626: Warning: The least populated class in y has only 6 members, which is too few. The minimum number of members in any class cannot be less than n_splits=10.\n",
      "  % (min_groups, self.n_splits)), Warning)\n",
      "/home/soumya/.local/lib/python3.6/site-packages/sklearn/externals/joblib/externals/loky/process_executor.py:700: UserWarning: A worker stopped while some jobs were given to the executor. This can be caused by a too short worker timeout or by a memory leak.\n",
      "  \"timeout or by a memory leak.\", UserWarning\n"
     ]
    },
    {
     "name": "stdout",
     "output_type": "stream",
     "text": [
      "\n",
      " The best grid is as follows: \n",
      "\n",
      "RandomForestClassifier(bootstrap=True, class_weight=None, criterion='gini',\n",
      "            max_depth=None, max_features='auto', max_leaf_nodes=None,\n",
      "            min_impurity_decrease=0.0, min_impurity_split=None,\n",
      "            min_samples_leaf=1, min_samples_split=2,\n",
      "            min_weight_fraction_leaf=0.0, n_estimators=100, n_jobs=None,\n",
      "            oob_score=False, random_state=0, verbose=0, warm_start=False)\n",
      "Classification of the train samples\n",
      "Evaluation using Precision, Recall and F-measure\n",
      "\n",
      " Accuracy:0.999409402315143\n",
      "\n",
      " Precision:0.999409402315143\n",
      "\n",
      " Recall:0.999409402315143\n",
      "\n",
      " F-measure:0.999409402315143\n",
      "Classification of the test samples\n",
      "Evaluation using Precision, Recall and F-measure\n",
      "\n",
      " Accuracy:0.9730560843461707\n",
      "\n",
      " Precision:0.9730560843461707\n",
      "\n",
      " Recall:0.9730560843461707\n",
      "\n",
      " F-measure:0.9730560843461707\n"
     ]
    },
    {
     "data": {
      "image/png": "[encoded data removed]",
      "text/plain": [
       "<Figure size 432x288 with 2 Axes>"
      ]
     },
     "metadata": {
      "needs_background": "light"
     },
     "output_type": "display_data"
    }
   ],
   "source": [
    "if __name__ == '__main__':\n",
    "    clf = RandomForestClassifier(n_estimators=100,random_state=0)\n",
    "    param_grid =[{'max_depth':[None,1000,5000,10000]},]  # Sets of parameters\n",
    "    grid = GridSearchCV(clf,param_grid,n_jobs=-1, cv=10)          \n",
    "    grid.fit(X_train,y_train)    \n",
    "    clf= grid.best_estimator_                   # Best grid\n",
    "    print ('\\n The best grid is as follows: \\n')\n",
    "    print (grid.best_estimator_ )\n",
    "\n",
    "    print ('Classification of the train samples')\n",
    "    predicted_class_label = clf.predict(X_train)     \n",
    "    predicted_class_label = list(predicted_class_label)\n",
    "\n",
    "    print ('Evaluation using Precision, Recall and F-measure')\n",
    "    ac=accuracy_score(y_train, predicted_class_label)\n",
    "    print ('\\n Accuracy:'+str(ac))\n",
    "    pr=precision_score(y_train, predicted_class_label, average='micro')\n",
    "    print ('\\n Precision:'+str(pr))\n",
    "    re=recall_score(y_train, predicted_class_label, average='micro')\n",
    "    print ('\\n Recall:'+str(re))\n",
    "    fm=f1_score(y_train, predicted_class_label, average='micro') \n",
    "    print ('\\n F-measure:'+str(fm))\n",
    "\n",
    "    print ('Classification of the test samples')\n",
    "    predicted_class_label = clf.predict(X_test)     \n",
    "    predicted_class_label = list(predicted_class_label)\n",
    "\n",
    "    print ('Evaluation using Precision, Recall and F-measure')\n",
    "    ac=accuracy_score(y_test, predicted_class_label)\n",
    "    print ('\\n Accuracy:'+str(ac))\n",
    "    pr=precision_score(y_test, predicted_class_label, average='micro')\n",
    "    print ('\\n Precision:'+str(pr))\n",
    "    re=recall_score(y_test, predicted_class_label, average='micro')\n",
    "    print ('\\n Recall:'+str(re))\n",
    "    fm=f1_score(y_test, predicted_class_label, average='micro') \n",
    "    print ('\\n F-measure:'+str(fm))\n",
    "    cnf_matrix = confusion_matrix(y_test,predicted_class_label)\n",
    "    #print(cnf_matrix)\n",
    "    plt.figure()\n",
    "    plot_confusion_matrix(cnf_matrix, classes=[0, 1, 2, 3])"
   ]
  },
  {
   "cell_type": "markdown",
   "metadata": {},
   "source": [
    "<pre>\n",
    "\n",
    "</pre>\n",
    "<h1 align='center' style='color:red'>Multi Layer Perceptron</h1>\n",
    "<pre>\n",
    "\n",
    "</pre> "
   ]
  },
  {
   "cell_type": "code",
   "execution_count": 7,
   "metadata": {},
   "outputs": [
    {
     "name": "stderr",
     "output_type": "stream",
     "text": [
      "/home/soumya/.local/lib/python3.6/site-packages/sklearn/model_selection/_split.py:626: Warning: The least populated class in y has only 6 members, which is too few. The minimum number of members in any class cannot be less than n_splits=10.\n",
      "  % (min_groups, self.n_splits)), Warning)\n"
     ]
    },
    {
     "name": "stdout",
     "output_type": "stream",
     "text": [
      "\n",
      " The best grid is as follows: \n",
      "\n",
      "MLPClassifier(activation='logistic', alpha=0.0001, batch_size='auto',\n",
      "       beta_1=0.9, beta_2=0.999, early_stopping=False, epsilon=1e-08,\n",
      "       hidden_layer_sizes=(100,), learning_rate='constant',\n",
      "       learning_rate_init=0.001, max_iter=200, momentum=0.9,\n",
      "       n_iter_no_change=10, nesterovs_momentum=True, power_t=0.5,\n",
      "       random_state=None, shuffle=True, solver='adam', tol=0.0001,\n",
      "       validation_fraction=0.1, verbose=False, warm_start=False)\n",
      "Classification of the train samples\n",
      "Evaluation using Precision, Recall and F-measure\n",
      "\n",
      " Accuracy:0.9992322230096858\n",
      "\n",
      " Precision:0.9992322230096858\n",
      "\n",
      " Recall:0.9992322230096858\n",
      "\n",
      " F-measure:0.9992322230096858\n",
      "Classification of the test samples\n",
      "Evaluation using Precision, Recall and F-measure\n",
      "\n",
      " Accuracy:0.9724215356079465\n",
      "\n",
      " Precision:0.9724215356079465\n",
      "\n",
      " Recall:0.9724215356079465\n",
      "\n",
      " F-measure:0.9724215356079465\n"
     ]
    },
    {
     "data": {
      "image/png": "[encoded data removed]",
      "text/plain": [
       "<Figure size 432x288 with 2 Axes>"
      ]
     },
     "metadata": {
      "needs_background": "light"
     },
     "output_type": "display_data"
    }
   ],
   "source": [
    "if __name__ == '__main__':\n",
    "    clf = MLPClassifier()\n",
    "    param_grid =[{'hidden_layer_sizes':[(100,),(200,),(50,50,50)],'activation':['relu','tanh','logistic']},]  # Sets of parameters\n",
    "    grid = GridSearchCV(clf,param_grid,n_jobs=7, cv=10)          \n",
    "    grid.fit(X_train,y_train)    \n",
    "    clf= grid.best_estimator_                   # Best grid\n",
    "    print ('\\n The best grid is as follows: \\n')\n",
    "    print (grid.best_estimator_ )\n",
    "\n",
    "    print ('Classification of the train samples')\n",
    "    predicted_class_label = clf.predict(X_train)     \n",
    "    predicted_class_label = list(predicted_class_label)\n",
    "\n",
    "    print ('Evaluation using Precision, Recall and F-measure')\n",
    "    ac=accuracy_score(y_train, predicted_class_label)\n",
    "    print ('\\n Accuracy:'+str(ac))\n",
    "    pr=precision_score(y_train, predicted_class_label, average='micro')\n",
    "    print ('\\n Precision:'+str(pr))\n",
    "    re=recall_score(y_train, predicted_class_label, average='micro')\n",
    "    print ('\\n Recall:'+str(re))\n",
    "    fm=f1_score(y_train, predicted_class_label, average='micro') \n",
    "    print ('\\n F-measure:'+str(fm))\n",
    "\n",
    "    print ('Classification of the test samples')\n",
    "    predicted_class_label = clf.predict(X_test)     \n",
    "    predicted_class_label = list(predicted_class_label)\n",
    "\n",
    "    print ('Evaluation using Precision, Recall and F-measure')\n",
    "    ac=accuracy_score(y_test, predicted_class_label)\n",
    "    print ('\\n Accuracy:'+str(ac))\n",
    "    pr=precision_score(y_test, predicted_class_label, average='micro')\n",
    "    print ('\\n Precision:'+str(pr))\n",
    "    re=recall_score(y_test, predicted_class_label, average='micro')\n",
    "    print ('\\n Recall:'+str(re))\n",
    "    fm=f1_score(y_test, predicted_class_label, average='micro') \n",
    "    print ('\\n F-measure:'+str(fm))\n",
    "    cnf_matrix = confusion_matrix(y_test,predicted_class_label)\n",
    "    #print(cnf_matrix)\n",
    "    plt.figure()\n",
    "    plot_confusion_matrix(cnf_matrix, classes=[0, 1, 2, 3])"
   ]
  },
  {
   "cell_type": "code",
   "execution_count": null,
   "metadata": {},
   "outputs": [],
   "source": []
  }
 ],
 "metadata": {
  "kernelspec": {
   "display_name": "Python 3",
   "language": "python",
   "name": "python3"
  },
  "language_info": {
   "codemirror_mode": {
    "name": "ipython",
    "version": 3
   },
   "file_extension": ".py",
   "mimetype": "text/x-python",
   "name": "python",
   "nbconvert_exporter": "python",
   "pygments_lexer": "ipython3",
   "version": "3.6.6"
  }
 },
 "nbformat": 4,
 "nbformat_minor": 2
}
